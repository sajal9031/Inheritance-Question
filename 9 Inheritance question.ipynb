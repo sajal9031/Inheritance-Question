{
 "cells": [
  {
   "cell_type": "markdown",
   "id": "f54da8f8-0c50-46d3-a7d3-4e07b7a95767",
   "metadata": {},
   "source": [
    "Q1) Create a vehicle class with an init method having instance variables as name_of_vehicle, max_speed\n",
    "and average_of_vehicle."
   ]
  },
  {
   "cell_type": "code",
   "execution_count": 1,
   "id": "70c1ab18-add3-4cf2-8049-faef5bfd0502",
   "metadata": {},
   "outputs": [],
   "source": [
    "class vehicle:\n",
    "    \n",
    "    def __init__(self ,name_of_vehicle ,max_speed,average_of_vehicle):\n",
    "        \n",
    "        self.name_of_vehicle = name_of_vehicle\n",
    "        self.max_speed = max_speed\n",
    "        self.average_of_vehicle = average_of_vehicle\n",
    "        \n",
    "    \n",
    "    def return_vehicle_detail(self):\n",
    "        return self.name_of_vehicle, self.max_speed , self.average_of_vehicle"
   ]
  },
  {
   "cell_type": "code",
   "execution_count": 4,
   "id": "7182a993-4601-49f4-8416-6ff75e855459",
   "metadata": {},
   "outputs": [],
   "source": [
    "## create object\n",
    "\n",
    "v1=vehicle(\"TATA_Harrior\",220,24)"
   ]
  },
  {
   "cell_type": "code",
   "execution_count": 5,
   "id": "27376a56-8d51-4afe-b7fc-4cbdb9d667b6",
   "metadata": {},
   "outputs": [
    {
     "data": {
      "text/plain": [
       "24"
      ]
     },
     "execution_count": 5,
     "metadata": {},
     "output_type": "execute_result"
    }
   ],
   "source": [
    "v1.average_of_vehicle"
   ]
  },
  {
   "cell_type": "code",
   "execution_count": 6,
   "id": "237a7a93-5d09-4241-ab8e-9cbbe96e6326",
   "metadata": {},
   "outputs": [
    {
     "data": {
      "text/plain": [
       "'TATA_Harrior'"
      ]
     },
     "execution_count": 6,
     "metadata": {},
     "output_type": "execute_result"
    }
   ],
   "source": [
    "v1.name_of_vehicle"
   ]
  },
  {
   "cell_type": "markdown",
   "id": "49ebb48e-d576-45ae-a9bd-d51892b35c1b",
   "metadata": {},
   "source": [
    "Q2)  Create a child class car from the vehicle class created in Que 1, which will inherit the vehicle class.\n",
    "\n",
    "Create a method named seating_capacity which takes capacity as an argument and returns the name of\n",
    "the vehicle and its seating capacity."
   ]
  },
  {
   "cell_type": "code",
   "execution_count": 7,
   "id": "a14d5908-ab2a-4bfb-bbad-753461cec84e",
   "metadata": {},
   "outputs": [],
   "source": [
    "class vehicle:\n",
    "    \n",
    "    def __init__(self ,name_of_vehicle ,max_speed,average_of_vehicle):\n",
    "        \n",
    "        self.name_of_vehicle = name_of_vehicle\n",
    "        self.max_speed = max_speed\n",
    "        self.average_of_vehicle = average_of_vehicle\n",
    "        \n",
    "\n",
    "class super_car(vehicle):\n",
    "    \n",
    "    def __init__(self, name_of_vehicle, max_speed, average_of_vehicle):\n",
    "        super().__init__(name_of_vehicle, max_speed, average_of_vehicle)\n",
    "    "
   ]
  },
  {
   "cell_type": "code",
   "execution_count": 9,
   "id": "5e5d8394-08c1-447c-8eff-4710cffdf714",
   "metadata": {},
   "outputs": [],
   "source": [
    "car=super_car(\"TATA_Harrior_super\",330,25)"
   ]
  },
  {
   "cell_type": "code",
   "execution_count": 10,
   "id": "ba16a94f-9734-4e2b-bf26-a921d70f6f80",
   "metadata": {},
   "outputs": [
    {
     "data": {
      "text/plain": [
       "'TATA_Harrior_super'"
      ]
     },
     "execution_count": 10,
     "metadata": {},
     "output_type": "execute_result"
    }
   ],
   "source": [
    "car.name_of_vehicle"
   ]
  },
  {
   "cell_type": "code",
   "execution_count": 13,
   "id": "26e3eb23-40ec-483b-9c82-21cf37e797a7",
   "metadata": {},
   "outputs": [
    {
     "data": {
      "text/plain": [
       "330"
      ]
     },
     "execution_count": 13,
     "metadata": {},
     "output_type": "execute_result"
    }
   ],
   "source": [
    "car.max_speed"
   ]
  },
  {
   "cell_type": "code",
   "execution_count": 14,
   "id": "51195031-a061-4836-9195-28c07b9edf95",
   "metadata": {},
   "outputs": [
    {
     "data": {
      "text/plain": [
       "25"
      ]
     },
     "execution_count": 14,
     "metadata": {},
     "output_type": "execute_result"
    }
   ],
   "source": [
    "car.average_of_vehicle"
   ]
  },
  {
   "cell_type": "markdown",
   "id": "71dc11c2-dd7b-42cf-a2d8-2ff48f42b583",
   "metadata": {},
   "source": [
    "\n",
    "3.) What is multiple inheritance? Write a python code to demonstrate multiple inheritance."
   ]
  },
  {
   "cell_type": "markdown",
   "id": "bfeb63fa-8ff5-49d6-9a76-a69ced72711a",
   "metadata": {},
   "source": [
    "Multiple inheritance is a feature in object-oriented programming where a class can inherit attributes and methods from more than one parent class. This allows the child class to inherit the combined functionality of multiple parent classes. In Python, multiple inheritance is achieved by specifying multiple parent classes in the child class definition.\n",
    "\n"
   ]
  },
  {
   "cell_type": "code",
   "execution_count": 1,
   "id": "c8902ea8-c30d-41b6-9490-57c23fca29d6",
   "metadata": {},
   "outputs": [],
   "source": [
    "class Vehicle:\n",
    "    def __init__(self, make, model, year):\n",
    "        self.make = make\n",
    "        self.model = model\n",
    "        self.year = year\n",
    "        \n",
    "    def drive(self):\n",
    "        print(\"Driving the vehicle\")\n",
    "        \n",
    "class Electric:\n",
    "    def __init__(self, range):\n",
    "        self.range = range\n",
    "        \n",
    "    def charge(self):\n",
    "        print(\"Charging the electric vehicle\")\n",
    "        \n",
    "class HybridVehicle(Vehicle, Electric):\n",
    "    def __init__(self, make, model, year, range):\n",
    "        Vehicle.__init__(self, make, model, year)\n",
    "        Electric.__init__(self, range)\n",
    "        \n",
    "    def drive(self):\n",
    "        print(\"Driving the hybrid vehicle\")\n",
    "        \n",
    "    def fuel_type(self):\n",
    "        print(\"This vehicle uses both gasoline and electricity\")\n",
    "\n"
   ]
  },
  {
   "cell_type": "code",
   "execution_count": 2,
   "id": "7151d717-2a7c-46ea-aa8a-8b56874d7924",
   "metadata": {},
   "outputs": [
    {
     "name": "stdout",
     "output_type": "stream",
     "text": [
      "Toyota\n",
      "25\n",
      "Driving the hybrid vehicle\n",
      "Charging the electric vehicle\n",
      "This vehicle uses both gasoline and electricity\n"
     ]
    }
   ],
   "source": [
    "my_car = HybridVehicle(\"Toyota\", \"Prius\", 2022, 25)\n",
    "print(my_car.make) \n",
    "print(my_car.range) \n",
    "my_car.drive() \n",
    "my_car.charge()\n",
    "my_car.fuel_type()"
   ]
  },
  {
   "cell_type": "code",
   "execution_count": null,
   "id": "6a0bb001-9137-44cc-83e0-b73f0deee731",
   "metadata": {},
   "outputs": [],
   "source": []
  },
  {
   "cell_type": "markdown",
   "id": "7c31f3ea-d03a-4d8a-97fd-61ed415b54e0",
   "metadata": {},
   "source": [
    "Q4) What are getter and setter in python? Create a class and create a getter and a setter method in this\n",
    "class."
   ]
  },
  {
   "cell_type": "markdown",
   "id": "2be71e59-07d3-4f16-8c17-64fe86e325b2",
   "metadata": {},
   "source": [
    "In Python, getter and setter methods are used to retrieve and update the value of an attribute of a class. They are also known as accessor and mutator methods respectively. "
   ]
  },
  {
   "cell_type": "code",
   "execution_count": 3,
   "id": "92dce5ad-30d8-42e0-9845-7b0aad94970a",
   "metadata": {},
   "outputs": [],
   "source": [
    "class Person:\n",
    "    def __init__(self, name, age):\n",
    "        self._name = name\n",
    "        self._age = age\n",
    "    \n",
    "    def get_name(self):\n",
    "        return self._name\n",
    "    \n",
    "    def set_name(self, name):\n",
    "        self._name = name\n",
    "    \n",
    "    def get_age(self):\n",
    "        return self._age\n",
    "    \n",
    "    def set_age(self, age):\n",
    "        if age < 0:\n",
    "            raise ValueError(\"Age cannot be negative\")\n",
    "        self._age = age"
   ]
  },
  {
   "cell_type": "code",
   "execution_count": 4,
   "id": "eb58d6c9-51e6-4bf0-9fff-788b37d5dbaa",
   "metadata": {},
   "outputs": [
    {
     "name": "stdout",
     "output_type": "stream",
     "text": [
      "John\n",
      "Jane\n",
      "30\n",
      "35\n"
     ]
    }
   ],
   "source": [
    "person = Person(\"John\", 30)\n",
    "print(person.get_name()) \n",
    "person.set_name(\"Jane\")\n",
    "print(person.get_name()) \n",
    "print(person.get_age())\n",
    "person.set_age(35)\n",
    "print(person.get_age())"
   ]
  },
  {
   "cell_type": "markdown",
   "id": "8d700135-77da-4eec-90e8-804ddb948595",
   "metadata": {},
   "source": [
    "In this example, we have a Person class with two attributes: _name and _age. The names of these attributes begin with an underscore, which indicates that they are meant to be private (i.e., not accessed directly from outside the class). We have defined four methods to access and modify these attributes: get_name(), set_name(), get_age(), and set_age()."
   ]
  },
  {
   "cell_type": "code",
   "execution_count": null,
   "id": "e2f834d7-a44b-43d7-ad49-3adfac9c2166",
   "metadata": {},
   "outputs": [],
   "source": []
  },
  {
   "cell_type": "markdown",
   "id": "f597724d-67c2-4ad7-a030-e41bf27309fe",
   "metadata": {},
   "source": [
    "Q5) What is method overriding in python? Write a python code to demonstrate method overriding."
   ]
  },
  {
   "cell_type": "markdown",
   "id": "71087ee6-54fd-4989-a108-8d2548959a7f",
   "metadata": {},
   "source": [
    "Method overriding is a feature of object-oriented programming where a subclass provides a different implementation of a method that is already defined in its parent class. The subclass can override the method by providing a new implementation with the same name and parameters as the parent class method."
   ]
  },
  {
   "cell_type": "code",
   "execution_count": 5,
   "id": "7f513791-1406-4588-abc6-44323d6c5376",
   "metadata": {},
   "outputs": [
    {
     "name": "stdout",
     "output_type": "stream",
     "text": [
      "The vehicle starts moving.\n",
      "The car starts moving.\n",
      "The bike starts moving.\n"
     ]
    }
   ],
   "source": [
    "class Vehicle:\n",
    "    def start(self):\n",
    "        print(\"The vehicle starts moving.\")\n",
    "\n",
    "class Car(Vehicle):\n",
    "    def start(self):\n",
    "        print(\"The car starts moving.\")\n",
    "\n",
    "class Bike(Vehicle):\n",
    "    def start(self):\n",
    "        print(\"The bike starts moving.\")\n",
    "\n",
    "vehicle = Vehicle()\n",
    "vehicle.start() # \"The vehicle starts moving.\"\n",
    "\n",
    "car = Car()\n",
    "car.start() # \"The car starts moving.\"\n",
    "\n",
    "bike = Bike()\n",
    "bike.start() "
   ]
  },
  {
   "cell_type": "markdown",
   "id": "d89b8a6d-1ac5-407e-b9aa-0e971fcbb388",
   "metadata": {},
   "source": [
    " we have a parent class Vehicle with a start() method that prints a generic message. We have two child classes Car and Bike that inherit from Vehicle and override the start() method with their own implementations.\n",
    "\n",
    "When we create instances of the Car and Bike classes and call their start() methods, we get the overridden implementations of the method, which print out different messages than the Vehicle class implementation."
   ]
  },
  {
   "cell_type": "code",
   "execution_count": null,
   "id": "aa909fc0-2c18-4c9f-86c7-61205a63c172",
   "metadata": {},
   "outputs": [],
   "source": []
  }
 ],
 "metadata": {
  "kernelspec": {
   "display_name": "Python 3 (ipykernel)",
   "language": "python",
   "name": "python3"
  },
  "language_info": {
   "codemirror_mode": {
    "name": "ipython",
    "version": 3
   },
   "file_extension": ".py",
   "mimetype": "text/x-python",
   "name": "python",
   "nbconvert_exporter": "python",
   "pygments_lexer": "ipython3",
   "version": "3.10.8"
  }
 },
 "nbformat": 4,
 "nbformat_minor": 5
}
